{
 "cells": [
  {
   "cell_type": "markdown",
   "metadata": {},
   "source": [
    "# **CRAMÉR–RAO BOUND FOR NOISE FILTER**\n",
    "by Dhonan Nabil Hibatullah"
   ]
  },
  {
   "cell_type": "markdown",
   "metadata": {},
   "source": [
    "Suppose the tag position $p \\in \\mathbb{R}^2$ is an unknown deterministic parameter that is to be estimated from $n$ independent observations of $r_i, i=1, 2, ..., n$. Each from a distribution according to some Probability Density Function (PDF) $f(x | \\theta)$. The Cramér–Rao bound (CRB) states the variance of any unbiased estimator $\\hat{p}$ of $p$ is then bounded by the reciprocal of the Fisher Information $I(\\theta)$:\n",
    "\n",
    "$$\\text{var}\\left(\\hat{p}\\right) \\geq I^{-1}(p)$$"
   ]
  }
 ],
 "metadata": {
  "language_info": {
   "name": "python"
  }
 },
 "nbformat": 4,
 "nbformat_minor": 2
}
