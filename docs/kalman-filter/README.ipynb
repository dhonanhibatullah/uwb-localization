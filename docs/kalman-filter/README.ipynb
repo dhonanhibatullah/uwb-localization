{
 "cells": [
  {
   "cell_type": "markdown",
   "metadata": {},
   "source": [
    "# **KALMAN-FILTERING THE DATA FROM THE UWB ANCHORS**\n",
    "by Dhonan Nabil Hibatullah"
   ]
  },
  {
   "cell_type": "markdown",
   "metadata": {},
   "source": []
  }
 ],
 "metadata": {
  "language_info": {
   "name": "python"
  }
 },
 "nbformat": 4,
 "nbformat_minor": 2
}
