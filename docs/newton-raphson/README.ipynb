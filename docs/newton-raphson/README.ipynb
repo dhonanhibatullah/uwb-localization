{
 "cells": [
  {
   "cell_type": "markdown",
   "metadata": {},
   "source": [
    "# **UWB-LOCALIZATION WITH NEWTON-RAPHSON**\n",
    "by Dhonan Nabil Hibatullah"
   ]
  },
  {
   "cell_type": "markdown",
   "metadata": {},
   "source": [
    "UWB-localization is a localization technique with anchor-tag scenario, in which there exists $n$ position-fixed anchors $(n>2)$ and $m$ moving tags. Let $a_1$, $a_2$, $...$, $a_n$; $a_i \\in \\mathbb{R}^2$ be the position of the anchors and $p \\in \\mathbb{R}^2$ be the position of the tag. Each anchor produces $r_i \\in \\mathbb{R}$, i.e. the received tag distance from the corresponding anchor. To model this scenario, we start with $n$ circles where each represented by:\n",
    "\n",
    "$$C_i : \\left( x_p - x_i \\right)^2 + \\left( y_p - y_i \\right)^2 = \\left(r_i-e_i\\right)^2$$\n",
    "\n",
    "$e_i$ denotes the error caused by the systems. The goal is to find:\n",
    "\n",
    "$$\\min_{x_p,y_p} \\sum_{i \\leq n}e_i^2$$\n",
    "\n",
    "such that $p$ satisfies all $C_i$ (this may happen because $r_i$ contains error). By rearranging the expression of $C_i$:\n",
    "\n",
    "$$e_i = r_i - \\sqrt{\\left( x_p - x_i \\right)^2 + \\left( y_p - y_i \\right)^2}$$\n",
    "\n",
    "we obtain the objective function as follows.\n",
    "\n",
    "$$f(x_p, y_p) = \\sum_{i \\leq n}\\left[r_i - \\sqrt{\\left( x_p - x_i \\right)^2 + \\left( y_p - y_i \\right)^2}\\right]^2$$\n",
    "\n",
    "Minimize the objective function by letting $\\nabla f = 0$ using Newton-Raphson.\n",
    "\n",
    "$$\\nabla f(x_p, y_p) = \\begin{bmatrix}\n",
    "-nx_p + \\sum_{i \\leq n}\\left(\\frac{r_i(x_p - x_i)}{\\sqrt{\\left( x_p - x_i \\right)^2 + \\left( y_p - y_i \\right)^2}} + x_i\\right) \\\\\n",
    "-ny_p + \\sum_{i \\leq n}\\left(\\frac{r_i(y_p - y_i)}{\\sqrt{\\left( x_p - x_i \\right)^2 + \\left( y_p - y_i \\right)^2}} + y_i\\right)\n",
    "\\end{bmatrix} = 0$$\n",
    "\n",
    "$$J(x_p, y_p) = \\begin{bmatrix}\n",
    "\n",
    "-n + \\sum_{i \\leq n}\\left( \\frac{r_i}{\\sqrt{\\left( x_p - x_i \\right)^2 + \\left( y_p - y_i \\right)^2}} - \\frac{r_i(x_p - x_i)^2}{\\left(\\left( x_p - x_i \\right)^2 + \\left( y_p - y_i \\right)^2\\right)^\\frac{3}{2}} \\right) &&\n",
    "\n",
    "-\\sum_{i \\leq n}\\left( \\frac{r_i(x_p - x_i)(y_p-y_i)}{\\left(\\left( x_p - x_i \\right)^2 + \\left( y_p - y_i \\right)^2\\right)^{\\frac{3}{2}}} \\right) \\\\\n",
    "\n",
    "-\\sum_{i \\leq n}\\left( \\frac{r_i(x_p - x_i)(y_p-y_i)}{\\left(\\left( x_p - x_i \\right)^2 + \\left( y_p - y_i \\right)^2\\right)^{\\frac{3}{2}}} \\right) &&\n",
    "\n",
    "-n + \\sum_{i \\leq n}\\left( \\frac{r_i}{\\sqrt{\\left( x_p - x_i \\right)^2 + \\left( y_p - y_i \\right)^2}} - \\frac{r_i(y_p - y_i)^2}{\\left(\\left( x_p - x_i \\right)^2 + \\left( y_p - y_i \\right)^2\\right)^\\frac{3}{2}} \\right)\n",
    "\n",
    "\\end{bmatrix}$$\n",
    "\n",
    "Iterate with:\n",
    "\n",
    "$$p_{(k + 1)} = p_{(k)} - J^{-1}_{(k)}\\nabla f_{(k)}$$\n"
   ]
  }
 ],
 "metadata": {
  "language_info": {
   "name": "python"
  }
 },
 "nbformat": 4,
 "nbformat_minor": 2
}
